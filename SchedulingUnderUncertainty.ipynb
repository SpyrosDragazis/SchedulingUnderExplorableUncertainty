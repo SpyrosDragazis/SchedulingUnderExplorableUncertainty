{
  "cells": [
    {
      "cell_type": "markdown",
      "metadata": {
        "id": "lH0spC8dHX2S"
      },
      "source": [
        "In this Python Notebook we are going to impement experimental results for semi-clairvoyant scheduling in a single machine. More specifically every job comes with its test time and if and only if we have run its test we know its exact processing time.  "
      ]
    },
    {
      "cell_type": "code",
      "execution_count": null,
      "metadata": {
        "id": "2JpKn-HRHYiW"
      },
      "outputs": [],
      "source": [
        "#Every Job has Attributes \n",
        "# 1) Arrival Time\n",
        "# 2) Size\n",
        "# 3) Test size \n",
        "class Job:\n",
        "  def __init__(self,arrival_time,size,test_size):\n",
        "    self.arrival_time = arrival_time\n",
        "    self.size = size\n",
        "    self.test_size = test_size\n",
        "    self.completiontime = 0 \n",
        "  def __str__(self):\n",
        "    return f'{self.__class__.__name__} arrives at time equal to {self.arrival_time} and has size of {self.size} and its test has size of {self.test_size}'\n",
        "  def __repr__(self):\n",
        "    return f'{self.__class__.__name__} arrives at time equal to {self.arrival_time} and has size of {self.size} and its test has size of {self.test_size}'"
      ]
    },
    {
      "cell_type": "code",
      "source": [
        "import copy"
      ],
      "metadata": {
        "id": "7DPbgkIV95GB"
      },
      "execution_count": null,
      "outputs": []
    },
    {
      "cell_type": "code",
      "execution_count": null,
      "metadata": {
        "id": "e6eLgQr3ISjR"
      },
      "outputs": [],
      "source": [
        "#creating the instance of the jobs with release time = 0 for every job\n",
        "from numpy.random import seed\n",
        "from numpy.random import rand\n",
        "# seed random number generator\n",
        "seed(17)\n",
        "#set the number of jobs in variable n , ... the actual number is n+1\n",
        "n = 100\n",
        "#min job has size 1 unit and arbitary test\n",
        "minjob = Job(0,1,10*rand())\n",
        "#all jobs are stored in a list of jobs\n",
        "joblist = list()\n",
        "joblist.append(minjob)\n",
        "# generate random numbers between 0-1\n",
        "for i in range(n):\n",
        "  newJob = Job(0,1+10*rand(),10*rand())\n",
        "  joblist.append(newJob)"
      ]
    },
    {
      "cell_type": "code",
      "execution_count": null,
      "metadata": {
        "id": "MiorWzq8aWb9"
      },
      "outputs": [],
      "source": [
        "def RoundRobin (jobList,clear=True,inT = 0, inObj = 0):\n",
        "\n",
        "  #T is a time variable to compute Ci\n",
        "  T = inT #when we start time t = 0 \n",
        "  \n",
        "  joblist = copy.deepcopy(jobList) #create a copy of job list\n",
        "\n",
        "  obj = inObj #objective function is the Sum of Completion Times\n",
        "\n",
        "  if(clear):\n",
        "    for job in joblist:\n",
        "      job.completiontime = 0  #set all completion times to 0 \n",
        "\n",
        "  #in RR for every time t every job has been processed for equal amount of time \n",
        "\n",
        "  joblist.sort(key=lambda x: x.size, reverse=True) #reverse=True for pop()\n",
        "\n",
        "  while(joblist):\n",
        "\n",
        "    minjob = joblist.pop() #min job finishes first\n",
        "    \n",
        "    #take its size and add it to every's job Ci\n",
        "    t = minjob.size\n",
        "    \n",
        "    T += (len(joblist) + 1)*t\n",
        "\n",
        "    minjob.completiontime = T\n",
        "    for job in joblist:\n",
        "      job.size -= t\n",
        "    \n",
        "    obj += T\n",
        "  return obj\n",
        "\n",
        "\n"
      ]
    },
    {
      "cell_type": "markdown",
      "source": [
        "In the following cells we are going to check the Round Robin evaluation for sum of completion times. We will construct 2 instances. One where all jobs are equal with size one and the other where job i has size propotional to its size. We remind that $RR_{obj} = \\sum_{i=1}^{n}C_{i} =  2\\sum_{i=1}^{n}(n-i)x_{i} + \\sum_{i=1}^{n}x_{i}$\n",
        "In case of $x_{i} = 1 \\text{ ,}∀i \\in [n]$, we know that all jobs finish togother at time $t = N$ so $RR_{obj} = \\sum_{i=1}^{n}C_{i} = n^{2}$. On the other hand, when $x_{i} = i \\text{ ,}∀i \\in [n]$, we derive that $RR_{obj} = 2\\sum_{i=1}^{n}ni - 2\\sum_{i=1}^{n}i^{2} + \\sum_{i=1}^{n}i = 2n\\frac{n(n+1)}{2} - 2\\frac{n(n+1)(2n+1)}{6}+\\frac{n(n+1)}{2} = n^{2}(n+1) - n(n+1)\\frac{(2n+1)}{6} + \\frac{n(n+1)}{2} = n(n+1)\\{n - \\frac{(2n+1)}{3} + \\frac{1}{2}\\} = n(n+1)\\frac{2n+1}{6}$. "
      ],
      "metadata": {
        "id": "BN9ril8H45x0"
      }
    },
    {
      "cell_type": "code",
      "source": [
        "#in this cell we are going to test Round Robin function in the instances described above\n",
        "\n",
        "#first we construct this instances\n",
        "\n",
        "'''\n",
        "Instance 1 \n",
        "'''\n",
        "\n",
        "n = 100\n",
        "#min job has size 1 unit and arbitary test\n",
        "minjob = Job(0,1,10*rand())\n",
        "#all jobs are stored in a list of jobs\n",
        "testRR1 = list()\n",
        "testRR1.append(minjob)\n",
        "# generate random numbers between 0-1\n",
        "for i in range(n-1):\n",
        "  newJob = Job(0,1,10*rand())\n",
        "  testRR1.append(newJob)\n",
        "\n",
        "'''\n",
        "Instance 2\n",
        "'''\n",
        "\n",
        "n = 100\n",
        "#min job has size 1 unit and arbitary test\n",
        "minjob = Job(0,1,10*rand())\n",
        "#all jobs are stored in a list of jobs\n",
        "testRR2 = list()\n",
        "testRR2.append(minjob)\n",
        "# generate random numbers between 0-1\n",
        "for i in range(2,n+1):\n",
        "  newJob = Job(0,i,10*rand())\n",
        "  testRR2.append(newJob)\n",
        "\n",
        "\n",
        "'''\n",
        "Now, we call Round Robin to check the objectives\n",
        "'''\n",
        "\n",
        "print(RoundRobin(testRR1))\n",
        "\n",
        "print(n**2)\n",
        "\n",
        "print(RoundRobin(testRR2))\n",
        "\n",
        "print(n*(n+1)*(2*n+1)/6)"
      ],
      "metadata": {
        "colab": {
          "base_uri": "https://localhost:8080/"
        },
        "id": "ZafFlRKlz-lV",
        "outputId": "3c7e560f-865b-4a32-e8f3-305a34664160"
      },
      "execution_count": null,
      "outputs": [
        {
          "output_type": "stream",
          "name": "stdout",
          "text": [
            "10000\n",
            "10000\n",
            "338350\n",
            "338350.0\n"
          ]
        }
      ]
    },
    {
      "cell_type": "code",
      "source": [
        "def SPT (jobList,clear=True,inT = 0,inObj = 0):\n",
        "\n",
        "  #T is a time variable to compute Ci\n",
        "  T = inT #when we start time t = 0 \n",
        "  \n",
        "  joblist = copy.deepcopy(jobList) #create a copy of job list\n",
        "\n",
        "  obj = inObj #objective function is the Sum of Completion Times\n",
        "\n",
        "  if(clear):\n",
        "    for job in joblist:\n",
        "      job.completiontime = 0  #set all completion times to 0 \n",
        "\n",
        "  #in SPT for every time t the smallest job has been processed only\n",
        "  #so when it finishes no other job's size is decreased \n",
        "\n",
        "  joblist.sort(key=lambda x: x.size, reverse=True) #reverse=True for pop()\n",
        "\n",
        "  while(joblist):\n",
        "\n",
        "    minjob = joblist.pop() #min job finishes first\n",
        "    \n",
        "    #take its size and add it to every's job Ci\n",
        "    t = minjob.size\n",
        "    \n",
        "    T += t\n",
        "\n",
        "    minjob.completiontime = T\n",
        "    \n",
        "    obj += T\n",
        "  return obj"
      ],
      "metadata": {
        "id": "FMKxcv5KGbIr"
      },
      "execution_count": null,
      "outputs": []
    },
    {
      "cell_type": "markdown",
      "source": [
        "Shortest Remaining Processing Time objective function is $\\sum_{i=1}^{n}(n-i+1)x_{i}$. So, for $x_{i} = 1 \\text{ ,}∀i \\in [n]$ we have that $\\sum_{i=1}^{n}C_{i} = \\frac{n(n+1)}{2}$ and for $x_{i} = i \\text{ ,}∀i \\in [n]$ we derive that $\\sum_{i=1}^{n}C_{i} = \\frac{n(n+1)(n+2)}{6}$."
      ],
      "metadata": {
        "id": "NsdoH4OiI-DK"
      }
    },
    {
      "cell_type": "code",
      "source": [
        "#in this cell we are going to test SPT function in the instances described above\n",
        "\n",
        "#first we construct this instances\n",
        "\n",
        "'''\n",
        "Instance 1 \n",
        "'''\n",
        "\n",
        "n = 100\n",
        "#min job has size 1 unit and arbitary test\n",
        "minjob = Job(0,1,10*rand())\n",
        "#all jobs are stored in a list of jobs\n",
        "testSPT1 = list()\n",
        "testSPT1.append(minjob)\n",
        "# generate random numbers between 0-1\n",
        "for i in range(n-1):\n",
        "  newJob = Job(0,1,10*rand())\n",
        "  testSPT1.append(newJob)\n",
        "\n",
        "'''\n",
        "Instance 2\n",
        "'''\n",
        "\n",
        "n = 100\n",
        "#min job has size 1 unit and arbitary test\n",
        "minjob = Job(0,1,10*rand())\n",
        "#all jobs are stored in a list of jobs\n",
        "testSPT2 = list()\n",
        "testSPT2.append(minjob)\n",
        "# generate random numbers between 0-1\n",
        "for i in range(2,n+1):\n",
        "  newJob = Job(0,i,10*rand())\n",
        "  testSPT2.append(newJob)\n",
        "\n",
        "\n",
        "'''\n",
        "Now, we call SPT to check the objectives\n",
        "'''\n",
        "\n",
        "print(SPT(testSPT1))\n",
        "\n",
        "print(n*(n+1)/2)\n",
        "\n",
        "print(SPT(testSPT2))\n",
        "\n",
        "print(n*(n+1)*(n+2)/6)\n"
      ],
      "metadata": {
        "colab": {
          "base_uri": "https://localhost:8080/"
        },
        "id": "IncljjFvHPxh",
        "outputId": "bf4a13af-355d-43e1-8831-bfcda033d012"
      },
      "execution_count": null,
      "outputs": [
        {
          "output_type": "stream",
          "name": "stdout",
          "text": [
            "5050\n",
            "5050.0\n",
            "171700\n",
            "171700.0\n"
          ]
        }
      ]
    },
    {
      "cell_type": "code",
      "source": [
        "#in this function we simulate Round Robin execution until time T\n",
        "def RRtilT (jobList,T,clear=True,to_copy=True):\n",
        "  \n",
        "  #t is a time variable to compute Ci\n",
        "  t = 0 #when we start time t = 0 \n",
        "\n",
        "  #we run RR until t <=T\n",
        "  if (to_copy):\n",
        "    joblist = copy.deepcopy(jobList) #create a copy of job list\n",
        "  else :\n",
        "    joblist = jobList[:]\n",
        "\n",
        "  obj = 0 #objective function is the Sum of Completion Times\n",
        "\n",
        "  if(clear):\n",
        "    for job in joblist:\n",
        "      job.completiontime = 0  #set all completion times to 0 \n",
        "\n",
        "  #in RR for every time t every job has been processed for equal amount of time \n",
        "\n",
        "  joblist.sort(key=lambda x: x.size, reverse=True) #reverse=True for pop()\n",
        "\n",
        "\n",
        "  while(joblist and t< T):\n",
        "\n",
        "    #print(\"t = {t} and T = {T}\".format(t=t,T=T))\n",
        "    #check if T is enough time for the min job to have finished\n",
        "\n",
        "    if (joblist[-1].size * len(joblist) <= T):\n",
        "      #here T suffices for the min job to have been finished \n",
        "\n",
        "      t += joblist[-1].size * len(joblist) #update time variable\n",
        "\n",
        "      T -= t # decrease available time \n",
        "\n",
        "      #print(\"Now, t = {t} and T = {T}\".format(t=t,T=T))\n",
        "\n",
        "      minjob = joblist.pop() #pop min job \n",
        "\n",
        "    \n",
        "      #take its size and add it to every's job Ci\n",
        "      minsize = minjob.size\n",
        "    \n",
        "\n",
        "      minjob.completiontime = t\n",
        "      for job in joblist:\n",
        "        job.size -= minsize\n",
        "    \n",
        "      obj += t\n",
        "    else :\n",
        "      #print(\"been here\")\n",
        "      #here T does not suffice for the smallest job to have been finished \n",
        "      #so we decrease every job's size by T/(len(list))\n",
        "      workload = T/len(joblist)\n",
        "\n",
        "      for job in joblist:\n",
        "        job.size -= workload\n",
        "\n",
        "      #we set T=0\n",
        "      t += T\n",
        "      T-= t\n",
        "      #print(\"Now, t = {t} and T = {T}\".format(t=t,T=T)) \n",
        "    #print(joblist and t< T)\n",
        "  #print(\"In the end, t = {t} and T = {T}\".format(t=t,T=T)) \n",
        "  return (obj,joblist)"
      ],
      "metadata": {
        "id": "l8fKFT0nJptL"
      },
      "execution_count": null,
      "outputs": []
    },
    {
      "cell_type": "markdown",
      "source": [
        "To test RRtilT function we will create two instances. One where all jobs are equal and none of the jobs will finish and the other where all jobs are equal too but in the end all jobs will have finished.In the first we should take obj equal to zero and in the second equal to RR's objective. "
      ],
      "metadata": {
        "id": "JlzFWa1hW585"
      }
    },
    {
      "cell_type": "code",
      "source": [
        "#in this cell we are going to test Round Robin until T function in the instances described above\n",
        "\n",
        "#first we construct this instances\n",
        "\n",
        "'''\n",
        "Instance 1 \n",
        "'''\n",
        "\n",
        "n = 100\n",
        "#min job has size 1 unit and arbitary test\n",
        "minjob = Job(0,1,10*rand())\n",
        "#all jobs are stored in a list of jobs\n",
        "testRRT1 = list()\n",
        "testRRT1.append(minjob)\n",
        "# generate random numbers between 0-1\n",
        "for i in range(n-1):\n",
        "  newJob = Job(0,1,10*rand())\n",
        "  testRRT1.append(newJob)\n",
        "\n",
        "'''\n",
        "Instance 2\n",
        "'''\n",
        "\n",
        "n = 100\n",
        "#min job has size 1 unit and arbitary test\n",
        "minjob = Job(0,1,10*rand())\n",
        "#all jobs are stored in a list of jobs\n",
        "testRRT2 = list()\n",
        "testRRT2.append(minjob)\n",
        "# generate random numbers between 0-1\n",
        "for i in range(n-1):\n",
        "  newJob = Job(0,1,10*rand())\n",
        "  testRRT2.append(newJob)\n",
        "\n",
        "\n",
        "'''\n",
        "Now, we call Round Robin to check the objectives\n",
        "'''\n",
        "\n",
        "result1 = RRtilT(testRRT1,1)\n",
        "\n",
        "print(result1[0],len(result1[1]))\n",
        "\n",
        "result2 = RRtilT(testRRT2,n)\n",
        "\n",
        "print(result2[0],len(result2[1]))\n",
        "\n",
        "\n"
      ],
      "metadata": {
        "colab": {
          "base_uri": "https://localhost:8080/"
        },
        "id": "9DpZA9J1NVeU",
        "outputId": "14196b3e-df3a-4717-d121-3f2376dffab0"
      },
      "execution_count": null,
      "outputs": [
        {
          "output_type": "stream",
          "name": "stdout",
          "text": [
            "0 100\n",
            "100 99\n"
          ]
        }
      ]
    },
    {
      "cell_type": "markdown",
      "source": [
        "Now we are ready to combine Round Robin with SPT. More specifically, we run Round Robin for jobs sizes at $\\lambda$ rate and tests in SPT at 1 - $\\lambda$ rate. When, all tests have finished we run SPT. "
      ],
      "metadata": {
        "id": "PFqqvnhB2IJi"
      }
    },
    {
      "cell_type": "code",
      "source": [
        "def RR_SPT (jobList, rate,clear= True):\n",
        "  \n",
        "  joblist = copy.deepcopy(jobList)\n",
        "\n",
        "  if (not (0<=rate<=1)):\n",
        "    print(\"Give valid rate.\")\n",
        "    return\n",
        "  \n",
        "  if(clear):\n",
        "    for job in joblist:\n",
        "      job.completiontime = 0  #set all completion times to 0 \n",
        "\n",
        "  #Run RR until time = sum t_i\n",
        "\n",
        "  sum_t_i = sum(job.test_size for job in joblist)\n",
        "\n",
        "  sum_t_i = sum_t_i/rate\n",
        "  \n",
        "  RRobj,joblist = RRtilT(joblist,sum_t_i,False)\n",
        "\n",
        "  #now run SPT for the rest of the jobs\n",
        "\n",
        "  obj = SPT(joblist,False,sum_t_i,RRobj/rate)\n",
        "    \n",
        "  return obj "
      ],
      "metadata": {
        "id": "lwHqbMza2HFj"
      },
      "execution_count": null,
      "outputs": []
    },
    {
      "cell_type": "code",
      "source": [
        "#in this cell we are going to test Round Robin combined with SPT\n",
        "\n",
        "#first we construct this instances\n",
        "\n",
        "'''\n",
        "Instance 1 \n",
        "'''\n",
        "\n",
        "n = 100\n",
        "#min job has size 1 unit and arbitary test\n",
        "minjob = Job(0,1,1)\n",
        "#all jobs are stored in a list of jobs\n",
        "testRRSPT1 = list()\n",
        "testRRSPT1.append(minjob)\n",
        "# generate random numbers between 0-1\n",
        "for i in range(n-1):\n",
        "  newJob = Job(0,1,1)\n",
        "  testRRSPT1.append(newJob)\n",
        "\n",
        "'''\n",
        "Instance 2\n",
        "'''\n",
        "\n",
        "n = 100\n",
        "#min job has size 1 unit and arbitary test\n",
        "minjob = Job(0,1,(10*rand())/10)\n",
        "#all jobs are stored in a list of jobs\n",
        "testRRSPT2 = list()\n",
        "testRRSPT2.append(minjob)\n",
        "# generate random numbers between 0-1\n",
        "for i in range(n-1):\n",
        "  newJob = Job(0,10,(10*rand())/10)\n",
        "  testRRSPT2.append(newJob)\n",
        "\n",
        "\n",
        "'''\n",
        "Now, we call Round Robin to check the objectives\n",
        "'''\n",
        "\n",
        "result1_combined = RR_SPT(testRRSPT1,1/2)\n",
        "\n",
        "result1RR = RoundRobin(testRRSPT1)\n",
        "\n",
        "result1SPT = SPT(testRRSPT1)\n",
        "\n",
        "print(result1_combined,result1RR,result1SPT)\n",
        "\n",
        "\n",
        "result2_combined = RR_SPT(testRRSPT2,1/2)\n",
        "\n",
        "result2RR = RoundRobin(testRRSPT2)\n",
        "\n",
        "result2SPT = SPT(testRRSPT2)\n",
        "\n",
        "\n",
        "print(result2_combined,result2RR,result2SPT)\n"
      ],
      "metadata": {
        "colab": {
          "base_uri": "https://localhost:8080/"
        },
        "id": "ztPsdWsH7Bpg",
        "outputId": "f57ed975-feaf-4a81-d37c-10ca43df77a9"
      },
      "execution_count": null,
      "outputs": [
        {
          "output_type": "stream",
          "name": "stdout",
          "text": [
            "20000.0 10000 5050\n",
            "54760.98836440231 98209 49600\n"
          ]
        }
      ]
    },
    {
      "cell_type": "markdown",
      "source": [
        "In the following cells, we are going to plot for different values of the rate $\\lambda$ the performance of SPT,RR and combined SPT&RR for different values of n samples. For each value of n we are going to run 100 times and take the mean value of the objectives for robusteness."
      ],
      "metadata": {
        "id": "LXKXm7gXA3cp"
      }
    },
    {
      "cell_type": "code",
      "source": [
        "import matplotlib as mpl\n",
        "import matplotlib.pyplot as plt\n",
        "import numpy as np"
      ],
      "metadata": {
        "id": "xirlWl6PA28W"
      },
      "execution_count": null,
      "outputs": []
    },
    {
      "cell_type": "code",
      "source": [
        "def plot (n,RR,SPT,RR_SPT,l_val):\n",
        "  x = np.linspace(1, n-1, n-1)  # Sample data.\n",
        "\n",
        "  # Note that even in the OO-style, we use `.pyplot.figure` to create the Figure.\n",
        "  fig, ax = plt.subplots(figsize=(5, 2.7))\n",
        "  ax.plot(x, np.array(SPT), label='SPT')  # Plot some data on the axes.\n",
        "  ax.plot(x, np.array(RR), label='RR')  # Plot more data on the axes...\n",
        "  ax.plot(x, np.array(RR_SPT), label='RR_SPT')  # ... and some more.\n",
        "  ax.set_xlabel('x label')  # Add an x-label to the axes.\n",
        "  ax.set_ylabel('y label')  # Add a y-label to the axes.\n",
        "  ax.set_title(\"Lamda = {l}\".format(l=l_val))  # Add a title to the axes.\n",
        "  ax.legend();  # Add a legend.\n",
        "  \n",
        "  return ax"
      ],
      "metadata": {
        "id": "Uvjfc_96ZYW7"
      },
      "execution_count": null,
      "outputs": []
    },
    {
      "cell_type": "code",
      "source": [
        "lamda = [1/8,1/4,3/8,1/2,5/8,3/4,7/8]\n",
        "\n",
        "for l in lamda :\n",
        "  ###################\n",
        "  RRl = []\n",
        "  SPTl = []\n",
        "  RR_SPTl = []\n",
        "  ###################\n",
        "  for n in range(1,100):\n",
        "    RR_n = []\n",
        "    SPT_n = []\n",
        "    RR_SPT_n = []\n",
        "    for i in range(1,101):\n",
        "      #min job has size 1 unit and arbitary test\n",
        "      minjob = Job(0,1,rand())\n",
        "      #all jobs are stored in a list of jobs\n",
        "      testplot = list()\n",
        "      testplot.append(minjob)\n",
        "      # generate random numbers between 0-1\n",
        "      for i in range(n-1):\n",
        "        newJob = Job(0,1,rand())\n",
        "        testplot.append(newJob)\n",
        "\n",
        "      ##################################\n",
        "      #call RR, SPT and RR_SPT routines#\n",
        "      ##################################\n",
        "      result_RR = RoundRobin(testplot)\n",
        "\n",
        "      result_SPT = SPT(testplot)\n",
        "\n",
        "      result_combined = RR_SPT(testplot,l)\n",
        "      #######################\n",
        "      RR_n.append(result_RR)\n",
        "\n",
        "      SPT_n.append(result_SPT)\n",
        "\n",
        "      RR_SPT_n.append(result_combined)\n",
        "\n",
        "    ######################################\n",
        "    #Take the mean value of the 100 tests#\n",
        "    ######################################\n",
        "    RRl.append(np.mean(np.array(RR_n)))\n",
        "\n",
        "    SPTl.append(np.mean(np.array(SPT_n)))\n",
        "\n",
        "    RR_SPTl.append(np.mean(np.array(RR_SPT_n)))\n",
        "\n",
        "  ##################################\n",
        "  #now plot for this value of lamda#\n",
        "  ##################################\n",
        "\n",
        "  plot (100,RRl,SPTl,RR_SPTl,l)\n"
      ],
      "metadata": {
        "colab": {
          "base_uri": "https://localhost:8080/",
          "height": 1000
        },
        "id": "MjxQOEU7T8AZ",
        "outputId": "621c9893-728c-4552-949c-092b22ed5a50"
      },
      "execution_count": null,
      "outputs": [
        {
          "output_type": "display_data",
          "data": {
            "text/plain": [
              "<Figure size 360x194.4 with 1 Axes>"
            ],
            "image/png": "[encoded data removed]"
          },
          "metadata": {
            "needs_background": "light"
          }
        },
        {
          "output_type": "display_data",
          "data": {
            "text/plain": [
              "<Figure size 360x194.4 with 1 Axes>"
            ],
            "image/png": "[encoded data removed]"
          },
          "metadata": {
            "needs_background": "light"
          }
        },
        {
          "output_type": "display_data",
          "data": {
            "text/plain": [
              "<Figure size 360x194.4 with 1 Axes>"
            ],
            "image/png": "[encoded data removed]"
          },
          "metadata": {
            "needs_background": "light"
          }
        },
        {
          "output_type": "display_data",
          "data": {
            "text/plain": [
              "<Figure size 360x194.4 with 1 Axes>"
            ],
            "image/png": "[encoded data removed]"
          },
          "metadata": {
            "needs_background": "light"
          }
        },
        {
          "output_type": "display_data",
          "data": {
            "text/plain": [
              "<Figure size 360x194.4 with 1 Axes>"
            ],
            "image/png": "[encoded data removed]"
          },
          "metadata": {
            "needs_background": "light"
          }
        },
        {
          "output_type": "display_data",
          "data": {
            "text/plain": [
              "<Figure size 360x194.4 with 1 Axes>"
            ],
            "image/png": "[encoded data removed]"
          },
          "metadata": {
            "needs_background": "light"
          }
        },
        {
          "output_type": "display_data",
          "data": {
            "text/plain": [
              "<Figure size 360x194.4 with 1 Axes>"
            ],
            "image/png": "[encoded data removed]"
          },
          "metadata": {
            "needs_background": "light"
          }
        }
      ]
    }
  ],
  "metadata": {
    "colab": {
      "provenance": [],
      "collapsed_sections": []
    },
    "kernelspec": {
      "display_name": "Python 3",
      "name": "python3"
    },
    "language_info": {
      "name": "python"
    }
  },
  "nbformat": 4,
  "nbformat_minor": 0
}